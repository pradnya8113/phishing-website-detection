{
 "cells": [
  {
   "cell_type": "code",
   "execution_count": 3,
   "metadata": {},
   "outputs": [
    {
     "name": "stdout",
     "output_type": "stream",
     "text": [
      "Requirement already satisfied: tensorflow in c:\\users\\91973\\appdata\\local\\programs\\python\\python310\\lib\\site-packages (2.12.0)\n",
      "Requirement already satisfied: tensorflow-intel==2.12.0 in c:\\users\\91973\\appdata\\local\\programs\\python\\python310\\lib\\site-packages (from tensorflow) (2.12.0)\n",
      "Requirement already satisfied: packaging in c:\\users\\91973\\appdata\\roaming\\python\\python310\\site-packages (from tensorflow-intel==2.12.0->tensorflow) (23.0)\n",
      "Requirement already satisfied: termcolor>=1.1.0 in c:\\users\\91973\\appdata\\local\\programs\\python\\python310\\lib\\site-packages (from tensorflow-intel==2.12.0->tensorflow) (2.2.0)\n",
      "Requirement already satisfied: typing-extensions>=3.6.6 in c:\\users\\91973\\appdata\\local\\programs\\python\\python310\\lib\\site-packages (from tensorflow-intel==2.12.0->tensorflow) (4.5.0)\n",
      "Requirement already satisfied: jax>=0.3.15 in c:\\users\\91973\\appdata\\local\\programs\\python\\python310\\lib\\site-packages (from tensorflow-intel==2.12.0->tensorflow) (0.4.6)\n",
      "Requirement already satisfied: six>=1.12.0 in c:\\users\\91973\\appdata\\roaming\\python\\python310\\site-packages (from tensorflow-intel==2.12.0->tensorflow) (1.16.0)\n",
      "Requirement already satisfied: wrapt<1.15,>=1.11.0 in c:\\users\\91973\\appdata\\local\\programs\\python\\python310\\lib\\site-packages (from tensorflow-intel==2.12.0->tensorflow) (1.14.1)\n",
      "Requirement already satisfied: tensorflow-estimator<2.13,>=2.12.0 in c:\\users\\91973\\appdata\\local\\programs\\python\\python310\\lib\\site-packages (from tensorflow-intel==2.12.0->tensorflow) (2.12.0)\n",
      "Requirement already satisfied: numpy<1.24,>=1.22 in c:\\users\\91973\\appdata\\local\\programs\\python\\python310\\lib\\site-packages (from tensorflow-intel==2.12.0->tensorflow) (1.23.5)\n",
      "Requirement already satisfied: tensorflow-io-gcs-filesystem>=0.23.1 in c:\\users\\91973\\appdata\\local\\programs\\python\\python310\\lib\\site-packages (from tensorflow-intel==2.12.0->tensorflow) (0.31.0)\n",
      "Requirement already satisfied: gast<=0.4.0,>=0.2.1 in c:\\users\\91973\\appdata\\local\\programs\\python\\python310\\lib\\site-packages (from tensorflow-intel==2.12.0->tensorflow) (0.4.0)\n",
      "Requirement already satisfied: absl-py>=1.0.0 in c:\\users\\91973\\appdata\\local\\programs\\python\\python310\\lib\\site-packages (from tensorflow-intel==2.12.0->tensorflow) (1.4.0)\n",
      "Requirement already satisfied: protobuf!=4.21.0,!=4.21.1,!=4.21.2,!=4.21.3,!=4.21.4,!=4.21.5,<5.0.0dev,>=3.20.3 in c:\\users\\91973\\appdata\\local\\programs\\python\\python310\\lib\\site-packages (from tensorflow-intel==2.12.0->tensorflow) (3.20.3)\n",
      "Requirement already satisfied: tensorboard<2.13,>=2.12 in c:\\users\\91973\\appdata\\local\\programs\\python\\python310\\lib\\site-packages (from tensorflow-intel==2.12.0->tensorflow) (2.12.0)\n",
      "Requirement already satisfied: setuptools in c:\\users\\91973\\appdata\\local\\programs\\python\\python310\\lib\\site-packages (from tensorflow-intel==2.12.0->tensorflow) (58.1.0)\n",
      "Requirement already satisfied: flatbuffers>=2.0 in c:\\users\\91973\\appdata\\local\\programs\\python\\python310\\lib\\site-packages (from tensorflow-intel==2.12.0->tensorflow) (23.3.3)\n",
      "Requirement already satisfied: opt-einsum>=2.3.2 in c:\\users\\91973\\appdata\\local\\programs\\python\\python310\\lib\\site-packages (from tensorflow-intel==2.12.0->tensorflow) (3.3.0)\n",
      "Requirement already satisfied: libclang>=13.0.0 in c:\\users\\91973\\appdata\\local\\programs\\python\\python310\\lib\\site-packages (from tensorflow-intel==2.12.0->tensorflow) (16.0.0)\n",
      "Requirement already satisfied: keras<2.13,>=2.12.0 in c:\\users\\91973\\appdata\\local\\programs\\python\\python310\\lib\\site-packages (from tensorflow-intel==2.12.0->tensorflow) (2.12.0)\n",
      "Requirement already satisfied: h5py>=2.9.0 in c:\\users\\91973\\appdata\\local\\programs\\python\\python310\\lib\\site-packages (from tensorflow-intel==2.12.0->tensorflow) (3.8.0)\n",
      "Requirement already satisfied: google-pasta>=0.1.1 in c:\\users\\91973\\appdata\\local\\programs\\python\\python310\\lib\\site-packages (from tensorflow-intel==2.12.0->tensorflow) (0.2.0)\n",
      "Requirement already satisfied: astunparse>=1.6.0 in c:\\users\\91973\\appdata\\local\\programs\\python\\python310\\lib\\site-packages (from tensorflow-intel==2.12.0->tensorflow) (1.6.3)\n",
      "Requirement already satisfied: grpcio<2.0,>=1.24.3 in c:\\users\\91973\\appdata\\local\\programs\\python\\python310\\lib\\site-packages (from tensorflow-intel==2.12.0->tensorflow) (1.51.3)\n",
      "Requirement already satisfied: wheel<1.0,>=0.23.0 in c:\\users\\91973\\appdata\\local\\programs\\python\\python310\\lib\\site-packages (from astunparse>=1.6.0->tensorflow-intel==2.12.0->tensorflow) (0.40.0)\n",
      "Requirement already satisfied: scipy>=1.5 in c:\\users\\91973\\appdata\\local\\programs\\python\\python310\\lib\\site-packages (from jax>=0.3.15->tensorflow-intel==2.12.0->tensorflow) (1.10.1)\n",
      "Requirement already satisfied: tensorboard-plugin-wit>=1.6.0 in c:\\users\\91973\\appdata\\local\\programs\\python\\python310\\lib\\site-packages (from tensorboard<2.13,>=2.12->tensorflow-intel==2.12.0->tensorflow) (1.8.1)\n",
      "Requirement already satisfied: google-auth-oauthlib<0.5,>=0.4.1 in c:\\users\\91973\\appdata\\local\\programs\\python\\python310\\lib\\site-packages (from tensorboard<2.13,>=2.12->tensorflow-intel==2.12.0->tensorflow) (0.4.6)\n",
      "Requirement already satisfied: google-auth<3,>=1.6.3 in c:\\users\\91973\\appdata\\local\\programs\\python\\python310\\lib\\site-packages (from tensorboard<2.13,>=2.12->tensorflow-intel==2.12.0->tensorflow) (2.16.3)\n",
      "Requirement already satisfied: tensorboard-data-server<0.8.0,>=0.7.0 in c:\\users\\91973\\appdata\\local\\programs\\python\\python310\\lib\\site-packages (from tensorboard<2.13,>=2.12->tensorflow-intel==2.12.0->tensorflow) (0.7.0)\n",
      "Requirement already satisfied: markdown>=2.6.8 in c:\\users\\91973\\appdata\\local\\programs\\python\\python310\\lib\\site-packages (from tensorboard<2.13,>=2.12->tensorflow-intel==2.12.0->tensorflow) (3.4.3)\n",
      "Requirement already satisfied: requests<3,>=2.21.0 in c:\\users\\91973\\appdata\\local\\programs\\python\\python310\\lib\\site-packages (from tensorboard<2.13,>=2.12->tensorflow-intel==2.12.0->tensorflow) (2.28.2)\n",
      "Requirement already satisfied: werkzeug>=1.0.1 in c:\\users\\91973\\appdata\\local\\programs\\python\\python310\\lib\\site-packages (from tensorboard<2.13,>=2.12->tensorflow-intel==2.12.0->tensorflow) (2.2.3)\n",
      "Requirement already satisfied: rsa<5,>=3.1.4 in c:\\users\\91973\\appdata\\local\\programs\\python\\python310\\lib\\site-packages (from google-auth<3,>=1.6.3->tensorboard<2.13,>=2.12->tensorflow-intel==2.12.0->tensorflow) (4.9)\n",
      "Requirement already satisfied: cachetools<6.0,>=2.0.0 in c:\\users\\91973\\appdata\\local\\programs\\python\\python310\\lib\\site-packages (from google-auth<3,>=1.6.3->tensorboard<2.13,>=2.12->tensorflow-intel==2.12.0->tensorflow) (5.3.0)\n",
      "Requirement already satisfied: pyasn1-modules>=0.2.1 in c:\\users\\91973\\appdata\\local\\programs\\python\\python310\\lib\\site-packages (from google-auth<3,>=1.6.3->tensorboard<2.13,>=2.12->tensorflow-intel==2.12.0->tensorflow) (0.2.8)\n",
      "Requirement already satisfied: requests-oauthlib>=0.7.0 in c:\\users\\91973\\appdata\\local\\programs\\python\\python310\\lib\\site-packages (from google-auth-oauthlib<0.5,>=0.4.1->tensorboard<2.13,>=2.12->tensorflow-intel==2.12.0->tensorflow) (1.3.1)\n",
      "Requirement already satisfied: pyasn1<0.5.0,>=0.4.6 in c:\\users\\91973\\appdata\\local\\programs\\python\\python310\\lib\\site-packages (from pyasn1-modules>=0.2.1->google-auth<3,>=1.6.3->tensorboard<2.13,>=2.12->tensorflow-intel==2.12.0->tensorflow) (0.4.8)\n",
      "Requirement already satisfied: certifi>=2017.4.17 in c:\\users\\91973\\appdata\\local\\programs\\python\\python310\\lib\\site-packages (from requests<3,>=2.21.0->tensorboard<2.13,>=2.12->tensorflow-intel==2.12.0->tensorflow) (2022.12.7)\n",
      "Requirement already satisfied: urllib3<1.27,>=1.21.1 in c:\\users\\91973\\appdata\\local\\programs\\python\\python310\\lib\\site-packages (from requests<3,>=2.21.0->tensorboard<2.13,>=2.12->tensorflow-intel==2.12.0->tensorflow) (1.26.15)\n",
      "Requirement already satisfied: idna<4,>=2.5 in c:\\users\\91973\\appdata\\local\\programs\\python\\python310\\lib\\site-packages (from requests<3,>=2.21.0->tensorboard<2.13,>=2.12->tensorflow-intel==2.12.0->tensorflow) (3.4)\n",
      "Requirement already satisfied: charset-normalizer<4,>=2 in c:\\users\\91973\\appdata\\local\\programs\\python\\python310\\lib\\site-packages (from requests<3,>=2.21.0->tensorboard<2.13,>=2.12->tensorflow-intel==2.12.0->tensorflow) (3.1.0)\n",
      "Requirement already satisfied: oauthlib>=3.0.0 in c:\\users\\91973\\appdata\\local\\programs\\python\\python310\\lib\\site-packages (from requests-oauthlib>=0.7.0->google-auth-oauthlib<0.5,>=0.4.1->tensorboard<2.13,>=2.12->tensorflow-intel==2.12.0->tensorflow) (3.2.2)\n",
      "Requirement already satisfied: MarkupSafe>=2.1.1 in c:\\users\\91973\\appdata\\local\\programs\\python\\python310\\lib\\site-packages (from werkzeug>=1.0.1->tensorboard<2.13,>=2.12->tensorflow-intel==2.12.0->tensorflow) (2.1.2)\n"
     ]
    },
    {
     "name": "stderr",
     "output_type": "stream",
     "text": [
      "WARNING: You are using pip version 21.2.4; however, version 23.0.1 is available.\n",
      "You should consider upgrading via the 'C:\\Users\\91973\\AppData\\Local\\Programs\\Python\\Python310\\python.exe -m pip install --upgrade pip' command.\n"
     ]
    }
   ],
   "source": [
    "! pip install tensorflow"
   ]
  },
  {
   "cell_type": "code",
   "execution_count": 100,
   "metadata": {},
   "outputs": [],
   "source": [
    "from tensorflow import keras\n",
    "from keras.models import Sequential\n",
    "from keras.layers import Dense, Conv1D, Embedding, Dropout,GlobalMaxPooling1D,MaxPooling1D\n",
    "from keras.layers import TextVectorization\n",
    "from tensorflow.keras import layers"
   ]
  },
  {
   "cell_type": "code",
   "execution_count": 54,
   "metadata": {},
   "outputs": [],
   "source": [
    "import numpy as np\n",
    "import pandas as pd"
   ]
  },
  {
   "cell_type": "code",
   "execution_count": 55,
   "metadata": {},
   "outputs": [],
   "source": [
    "legitimate_train = pd.read_csv('features/legitimate_train.csv')\n",
    "legitimate_test = pd.read_csv('features/legitimate_test.csv')\n",
    "phish_train = pd.read_csv('features/phish_train.csv')\n",
    "phish_test = pd.read_csv('features/phish_test.csv')"
   ]
  },
  {
   "cell_type": "code",
   "execution_count": 56,
   "metadata": {},
   "outputs": [],
   "source": [
    "df_tr=pd.concat([legitimate_train, phish_train], axis=0).sample(frac=1).reset_index(drop=True)\n",
    "# train=create_scaler(df_tr)\n",
    "df_te=pd.concat([legitimate_test, phish_test], axis=0).sample(frac=1).reset_index(drop=True)\n",
    "# test=create_scaler(df_te)"
   ]
  },
  {
   "cell_type": "code",
   "execution_count": 59,
   "metadata": {},
   "outputs": [],
   "source": [
    "X_train=df_tr.drop(columns=['url','result_flag'])\n",
    "Y_train=df_tr.result_flag\n",
    "X_test=df_te.drop(columns=['url','result_flag'])\n",
    "Y_test=df_te.result_flag\n"
   ]
  },
  {
   "cell_type": "code",
   "execution_count": 90,
   "metadata": {},
   "outputs": [],
   "source": [
    "x_tr=X_train.to_numpy()\n",
    "y_tr=Y_train.to_numpy()\n",
    "x_te=X_test.to_numpy()\n",
    "y_te=Y_test.to_numpy()"
   ]
  },
  {
   "cell_type": "code",
   "execution_count": 99,
   "metadata": {},
   "outputs": [
    {
     "name": "stdout",
     "output_type": "stream",
     "text": [
      "[[ 1.    0.    1.   ...  0.    1.    0.  ]\n",
      " [ 0.    0.    0.   ...  0.    0.    0.  ]\n",
      " [ 2.    0.    0.5  ...  0.    1.    0.  ]\n",
      " ...\n",
      " [45.    0.    0.49 ...  0.    1.    1.  ]\n",
      " [ 0.    0.    0.   ...  1.    1.    0.  ]\n",
      " [ 0.    0.    0.   ...  0.    0.    0.  ]]\n"
     ]
    }
   ],
   "source": [
    "print(x_tr)"
   ]
  },
  {
   "cell_type": "code",
   "execution_count": 73,
   "metadata": {},
   "outputs": [
    {
     "name": "stdout",
     "output_type": "stream",
     "text": [
      "(9514, 15)\n"
     ]
    }
   ],
   "source": [
    "print(X_train.shape)"
   ]
  },
  {
   "cell_type": "code",
   "execution_count": 104,
   "metadata": {},
   "outputs": [],
   "source": [
    "model=Sequential([\n",
    "layers.Conv1D(filters=128, kernel_size=3, padding='same', activation='relu',input_shape=(15,1)),\n",
    "layers.Dropout(0.5),\n",
    "layers.Conv1D(filters=64, kernel_size=3, padding='same', activation='relu'),\n",
    "layers.MaxPooling1D(pool_size=2),\n",
    "layers.Dropout(0.5),\n",
    "layers.Flatten(),\n",
    "layers.Dense(1, activation='sigmoid')\n",
    "])\n"
   ]
  },
  {
   "cell_type": "code",
   "execution_count": 105,
   "metadata": {},
   "outputs": [],
   "source": [
    "model.compile(optimizer='adam', loss='binary_crossentropy', metrics=['accuracy'])"
   ]
  },
  {
   "cell_type": "code",
   "execution_count": 107,
   "metadata": {},
   "outputs": [
    {
     "name": "stdout",
     "output_type": "stream",
     "text": [
      "Epoch 1/50\n",
      "340/340 [==============================] - 2s 6ms/step - loss: 0.4424 - accuracy: 0.8001\n",
      "Epoch 2/50\n",
      "340/340 [==============================] - 2s 7ms/step - loss: 0.4624 - accuracy: 0.8025\n",
      "Epoch 3/50\n",
      "340/340 [==============================] - 3s 8ms/step - loss: 0.4454 - accuracy: 0.8044\n",
      "Epoch 4/50\n",
      "340/340 [==============================] - 3s 8ms/step - loss: 0.4378 - accuracy: 0.8067\n",
      "Epoch 5/50\n",
      "340/340 [==============================] - 2s 7ms/step - loss: 0.4407 - accuracy: 0.8080\n",
      "Epoch 6/50\n",
      "340/340 [==============================] - 3s 7ms/step - loss: 0.4748 - accuracy: 0.8085\n",
      "Epoch 7/50\n",
      "340/340 [==============================] - 2s 7ms/step - loss: 0.4580 - accuracy: 0.8086\n",
      "Epoch 8/50\n",
      "340/340 [==============================] - 3s 8ms/step - loss: 0.4735 - accuracy: 0.8072\n",
      "Epoch 9/50\n",
      "340/340 [==============================] - 2s 7ms/step - loss: 0.4445 - accuracy: 0.8082\n",
      "Epoch 10/50\n",
      "340/340 [==============================] - 2s 7ms/step - loss: 0.4640 - accuracy: 0.8098\n",
      "Epoch 11/50\n",
      "340/340 [==============================] - 3s 7ms/step - loss: 0.4431 - accuracy: 0.8131\n",
      "Epoch 12/50\n",
      "340/340 [==============================] - 3s 8ms/step - loss: 0.4328 - accuracy: 0.8077\n",
      "Epoch 13/50\n",
      "340/340 [==============================] - 2s 7ms/step - loss: 0.4234 - accuracy: 0.8164\n",
      "Epoch 14/50\n",
      "340/340 [==============================] - 2s 7ms/step - loss: 0.4576 - accuracy: 0.8142\n",
      "Epoch 15/50\n",
      "340/340 [==============================] - 2s 7ms/step - loss: 0.4145 - accuracy: 0.8178\n",
      "Epoch 16/50\n",
      "340/340 [==============================] - 2s 7ms/step - loss: 0.4384 - accuracy: 0.8193\n",
      "Epoch 17/50\n",
      "340/340 [==============================] - 2s 7ms/step - loss: 0.4369 - accuracy: 0.8151\n",
      "Epoch 18/50\n",
      "340/340 [==============================] - 2s 7ms/step - loss: 0.4177 - accuracy: 0.8226\n",
      "Epoch 19/50\n",
      "340/340 [==============================] - 2s 7ms/step - loss: 0.4253 - accuracy: 0.8219\n",
      "Epoch 20/50\n",
      "340/340 [==============================] - 2s 7ms/step - loss: 0.4394 - accuracy: 0.8212\n",
      "Epoch 21/50\n",
      "340/340 [==============================] - 3s 7ms/step - loss: 0.4885 - accuracy: 0.8224\n",
      "Epoch 22/50\n",
      "340/340 [==============================] - 2s 7ms/step - loss: 0.4872 - accuracy: 0.8174\n",
      "Epoch 23/50\n",
      "340/340 [==============================] - 2s 7ms/step - loss: 0.5636 - accuracy: 0.8155\n",
      "Epoch 24/50\n",
      "340/340 [==============================] - 2s 7ms/step - loss: 0.4693 - accuracy: 0.8171\n",
      "Epoch 25/50\n",
      "340/340 [==============================] - 2s 7ms/step - loss: 0.4404 - accuracy: 0.8162\n",
      "Epoch 26/50\n",
      "340/340 [==============================] - 2s 7ms/step - loss: 0.4344 - accuracy: 0.8252\n",
      "Epoch 27/50\n",
      "340/340 [==============================] - 2s 7ms/step - loss: 0.4338 - accuracy: 0.8235\n",
      "Epoch 28/50\n",
      "340/340 [==============================] - 2s 6ms/step - loss: 0.4283 - accuracy: 0.8221\n",
      "Epoch 29/50\n",
      "340/340 [==============================] - 2s 7ms/step - loss: 0.4107 - accuracy: 0.8216\n",
      "Epoch 30/50\n",
      "340/340 [==============================] - 2s 7ms/step - loss: 0.4449 - accuracy: 0.8228\n",
      "Epoch 31/50\n",
      "340/340 [==============================] - 2s 7ms/step - loss: 0.5644 - accuracy: 0.8188\n",
      "Epoch 32/50\n",
      "340/340 [==============================] - 2s 7ms/step - loss: 0.4172 - accuracy: 0.8207\n",
      "Epoch 33/50\n",
      "340/340 [==============================] - 2s 7ms/step - loss: 0.4004 - accuracy: 0.8275\n",
      "Epoch 34/50\n",
      "340/340 [==============================] - 2s 7ms/step - loss: 0.4774 - accuracy: 0.8247\n",
      "Epoch 35/50\n",
      "340/340 [==============================] - 2s 7ms/step - loss: 2.0483 - accuracy: 0.8187\n",
      "Epoch 36/50\n",
      "340/340 [==============================] - 2s 7ms/step - loss: 0.4359 - accuracy: 0.8202\n",
      "Epoch 37/50\n",
      "340/340 [==============================] - 2s 7ms/step - loss: 0.5751 - accuracy: 0.8215\n",
      "Epoch 38/50\n",
      "340/340 [==============================] - 2s 6ms/step - loss: 0.5232 - accuracy: 0.8260\n",
      "Epoch 39/50\n",
      "340/340 [==============================] - 2s 6ms/step - loss: 0.4648 - accuracy: 0.8189\n",
      "Epoch 40/50\n",
      "340/340 [==============================] - 2s 7ms/step - loss: 0.4244 - accuracy: 0.8252\n",
      "Epoch 41/50\n",
      "340/340 [==============================] - 2s 6ms/step - loss: 0.4014 - accuracy: 0.8223\n",
      "Epoch 42/50\n",
      "340/340 [==============================] - 2s 6ms/step - loss: 0.4669 - accuracy: 0.8260\n",
      "Epoch 43/50\n",
      "340/340 [==============================] - 2s 6ms/step - loss: 0.4015 - accuracy: 0.8223\n",
      "Epoch 44/50\n",
      "340/340 [==============================] - 2s 6ms/step - loss: 0.4077 - accuracy: 0.8250\n",
      "Epoch 45/50\n",
      "340/340 [==============================] - 2s 6ms/step - loss: 0.4907 - accuracy: 0.8226\n",
      "Epoch 46/50\n",
      "340/340 [==============================] - 2s 6ms/step - loss: 0.4057 - accuracy: 0.8247\n",
      "Epoch 47/50\n",
      "340/340 [==============================] - 2s 6ms/step - loss: 0.4184 - accuracy: 0.8227\n",
      "Epoch 48/50\n",
      "340/340 [==============================] - 2s 6ms/step - loss: 0.4012 - accuracy: 0.8267\n",
      "Epoch 49/50\n",
      "340/340 [==============================] - 2s 6ms/step - loss: 0.4032 - accuracy: 0.8266\n",
      "Epoch 50/50\n",
      "340/340 [==============================] - 2s 6ms/step - loss: 0.4074 - accuracy: 0.8269\n"
     ]
    },
    {
     "data": {
      "text/plain": [
       "<keras.callbacks.History at 0x278f0cdf6d0>"
      ]
     },
     "execution_count": 107,
     "metadata": {},
     "output_type": "execute_result"
    }
   ],
   "source": [
    "model.fit(x_tr,y_tr,batch_size=28,epochs=50)"
   ]
  },
  {
   "cell_type": "code",
   "execution_count": null,
   "metadata": {},
   "outputs": [],
   "source": []
  }
 ],
 "metadata": {
  "kernelspec": {
   "display_name": "Python 3",
   "language": "python",
   "name": "python3"
  },
  "language_info": {
   "codemirror_mode": {
    "name": "ipython",
    "version": 3
   },
   "file_extension": ".py",
   "mimetype": "text/x-python",
   "name": "python",
   "nbconvert_exporter": "python",
   "pygments_lexer": "ipython3",
   "version": "3.10.2"
  },
  "orig_nbformat": 4
 },
 "nbformat": 4,
 "nbformat_minor": 2
}
