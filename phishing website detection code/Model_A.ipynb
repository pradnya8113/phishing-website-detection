{
  "cells": [
    {
      "cell_type": "code",
      "execution_count": null,
      "metadata": {
        "colab": {
          "base_uri": "https://localhost:8080/"
        },
        "id": "NJQLCNHMRi7V",
        "outputId": "d4629bcb-0604-402c-c954-76505cbf4bf1"
      },
      "outputs": [
        {
          "output_type": "stream",
          "name": "stdout",
          "text": [
            "Looking in indexes: https://pypi.org/simple, https://us-python.pkg.dev/colab-wheels/public/simple/\n",
            "Requirement already satisfied: keras in /usr/local/lib/python3.9/dist-packages (2.12.0)\n"
          ]
        }
      ],
      "source": [
        "!pip install keras"
      ]
    },
    {
      "cell_type": "code",
      "execution_count": null,
      "metadata": {
        "id": "bMbFVssxRa7g"
      },
      "outputs": [],
      "source": [
        "import tensorflow as tf\n",
        "from tensorflow.keras import models, layers\n",
        "import matplotlib.pyplot as plt\n",
        "from IPython.display import HTML\n",
        "\n",
        "import pandas as pd\n",
        "import numpy as np"
      ]
    },
    {
      "cell_type": "code",
      "execution_count": null,
      "metadata": {
        "id": "73JvYMKVmbft"
      },
      "outputs": [],
      "source": [
        "df = pd.read_csv('features/legitimate_train.csv')\n",
        "legi_train = df['url']\n",
        "legiy_train = np.zeros(len(legi_train))\n",
        "\n",
        "df = pd.read_csv('features/phish_train.csv')\n",
        "phis_train = df['url']\n",
        "phisy_train = np.ones(len(phis_train))"
      ]
    },
    {
      "cell_type": "code",
      "source": [
        "df = pd.read_csv('features/legitimate_test.csv')\n",
        "legi_test = df['url']\n",
        "legiy_test = np.zeros(len(legi_test))\n",
        "\n",
        "df = pd.read_csv('features/phish_test.csv')\n",
        "phis_test = df['url']\n",
        "phisy_test = np.ones(len(phis_test))"
      ],
      "metadata": {
        "id": "iOJT1X7Ys2pE"
      },
      "execution_count": null,
      "outputs": []
    },
    {
      "cell_type": "code",
      "execution_count": null,
      "metadata": {
        "id": "RNqCGOlPmhLT"
      },
      "outputs": [],
      "source": [
        "x_train = np.append(legi_train,phis_train)\n",
        "len_train = len(x_train)\n",
        "x = np.append(x_train,legi_test)\n",
        "x = np.append(x,phis_test)\n",
        "y_train = np.append(legiy_train,phisy_train)\n",
        "y = np.append(y_train,legiy_test)\n",
        "y = np.append(y,phisy_test)"
      ]
    },
    {
      "cell_type": "code",
      "source": [
        "import string\n",
        "import numpy as np\n",
        "from urllib.parse import urlparse\n",
        "from sklearn.preprocessing import OneHotEncoder\n",
        "\n",
        "# Define the function to extract relevant features from a URL\n",
        "def extract_features(url):\n",
        "    parsed_url = urlparse(url)\n",
        "    domain = parsed_url.netloc\n",
        "    path = parsed_url.path\n",
        "\n",
        "    # Initialize feature vector with zeros\n",
        "    features = [0] * (len(string.ascii_letters) + 10)\n",
        "\n",
        "    # Add domain-based features\n",
        "    for char in domain:\n",
        "        if char.isalpha():\n",
        "            features[ord(char.lower()) - ord('a')] += 1\n",
        "        elif char.isdigit():\n",
        "            features[ord(char) - ord('0') + 26] += 1\n",
        "        else:\n",
        "            features[-1] += 1\n",
        "\n",
        "    # Add path-based features\n",
        "    for char in path:\n",
        "        if char.isalpha():\n",
        "            features[ord(char.lower()) - ord('a') + 36] += 1\n",
        "        elif char.isdigit():\n",
        "            features[ord(char) - ord('0') + 52] += 1\n",
        "        else:\n",
        "            features[-2] += 1\n",
        "\n",
        "    return features\n",
        "\n",
        "# Define the preprocess function that converts a list of URLs to numerical form using one-hot encoding\n",
        "def preprocess(urls):\n",
        "    features = [extract_features(url) for url in urls]\n",
        "    encoder = OneHotEncoder(categories='auto')\n",
        "    encoder.fit(features)\n",
        "    X = encoder.transform(features).toarray()\n",
        "    return X\n",
        "\n",
        "# # Example usage\n",
        "# urls = ['https://www.google.com/search?q=phishing+website+detection',\n",
        "#         'https://www.paypal.com/login',\n",
        "#         'http://www.phishing.com']\n",
        "X = preprocess(x)\n",
        "print(X.shape)"
      ],
      "metadata": {
        "colab": {
          "base_uri": "https://localhost:8080/"
        },
        "id": "pobwtPA-sm_h",
        "outputId": "b79ef1e7-b91e-452f-c163-97dd3075cf12"
      },
      "execution_count": null,
      "outputs": [
        {
          "output_type": "stream",
          "name": "stdout",
          "text": [
            "(10550, 813)\n"
          ]
        }
      ]
    },
    {
      "cell_type": "code",
      "source": [
        "x_train = X[:len_train]\n",
        "y_train = y[:len_train]\n",
        "\n",
        "x_test = X[len_train:]\n",
        "y_test = y[len_train:]"
      ],
      "metadata": {
        "id": "u9xmGV-CuAw0"
      },
      "execution_count": null,
      "outputs": []
    },
    {
      "cell_type": "code",
      "execution_count": null,
      "metadata": {
        "colab": {
          "base_uri": "https://localhost:8080/"
        },
        "id": "JfHvkV1emy_6",
        "outputId": "5f93c882-972c-447f-d9b5-0f04caf7fa44"
      },
      "outputs": [
        {
          "output_type": "execute_result",
          "data": {
            "text/plain": [
              "(7734882, 842268)"
            ]
          },
          "metadata": {},
          "execution_count": 8
        }
      ],
      "source": [
        "x_train.size, x_test.size"
      ]
    },
    {
      "cell_type": "code",
      "source": [
        "print(x_train)"
      ],
      "metadata": {
        "colab": {
          "base_uri": "https://localhost:8080/"
        },
        "id": "QPmKb8n_vgmW",
        "outputId": "d0ff552e-857e-48fa-a3dc-e3566583f831"
      },
      "execution_count": null,
      "outputs": [
        {
          "output_type": "stream",
          "name": "stdout",
          "text": [
            "[[0. 1. 0. ... 0. 0. 0.]\n",
            " [0. 0. 1. ... 0. 0. 0.]\n",
            " [1. 0. 0. ... 0. 0. 0.]\n",
            " ...\n",
            " [0. 1. 0. ... 0. 0. 0.]\n",
            " [0. 0. 1. ... 0. 0. 0.]\n",
            " [0. 0. 1. ... 0. 0. 0.]]\n"
          ]
        }
      ]
    },
    {
      "cell_type": "code",
      "execution_count": null,
      "metadata": {
        "id": "xVgbSE6SoxGa"
      },
      "outputs": [],
      "source": [
        "model = models.Sequential([\n",
        "    layers.Embedding(input_dim=9514, output_dim=100, input_length=813),\n",
        "    layers.Conv1D(filters=64, kernel_size=3, padding='same', activation='relu'),\n",
        "    layers.MaxPooling1D(pool_size=2),\n",
        "    layers.LSTM(128),\n",
        "    layers.Dense(1, activation='sigmoid')\n",
        "])\n",
        "\n",
        "model.compile(optimizer='adam', loss='binary_crossentropy', metrics=['accuracy'])"
      ]
    },
    {
      "cell_type": "code",
      "execution_count": null,
      "metadata": {
        "colab": {
          "base_uri": "https://localhost:8080/"
        },
        "id": "Xo2f0ytKp8z2",
        "outputId": "0486d9ec-6ea2-4083-840d-425b5aec8e55"
      },
      "outputs": [
        {
          "output_type": "stream",
          "name": "stdout",
          "text": [
            "Epoch 1/50\n",
            "298/298 [==============================] - 157s 518ms/step - loss: 0.6759 - accuracy: 0.5529\n",
            "Epoch 2/50\n",
            "298/298 [==============================] - 155s 521ms/step - loss: 0.6139 - accuracy: 0.6613\n",
            "Epoch 3/50\n",
            "298/298 [==============================] - 154s 517ms/step - loss: 0.6051 - accuracy: 0.6743\n",
            "Epoch 4/50\n",
            "298/298 [==============================] - 154s 516ms/step - loss: 0.6017 - accuracy: 0.6761\n",
            "Epoch 5/50\n",
            "298/298 [==============================] - 154s 517ms/step - loss: 0.6007 - accuracy: 0.6777\n",
            "Epoch 6/50\n",
            "298/298 [==============================] - 155s 519ms/step - loss: 0.5952 - accuracy: 0.6871\n",
            "Epoch 7/50\n",
            "298/298 [==============================] - 154s 517ms/step - loss: 0.5890 - accuracy: 0.6913\n",
            "Epoch 8/50\n",
            "298/298 [==============================] - 155s 520ms/step - loss: 0.5862 - accuracy: 0.6932\n",
            "Epoch 9/50\n",
            "298/298 [==============================] - 155s 521ms/step - loss: 0.5852 - accuracy: 0.6964\n",
            "Epoch 10/50\n",
            "298/298 [==============================] - 154s 518ms/step - loss: 0.5868 - accuracy: 0.6911\n",
            "Epoch 11/50\n",
            "298/298 [==============================] - 154s 518ms/step - loss: 0.5841 - accuracy: 0.6955\n",
            "Epoch 12/50\n",
            "298/298 [==============================] - 154s 518ms/step - loss: 0.5866 - accuracy: 0.6938\n",
            "Epoch 13/50\n",
            "298/298 [==============================] - 154s 517ms/step - loss: 0.5840 - accuracy: 0.6976\n",
            "Epoch 14/50\n",
            "298/298 [==============================] - 155s 521ms/step - loss: 0.5813 - accuracy: 0.6984\n",
            "Epoch 15/50\n",
            "298/298 [==============================] - 155s 520ms/step - loss: 0.5758 - accuracy: 0.7035\n",
            "Epoch 16/50\n",
            "298/298 [==============================] - 155s 520ms/step - loss: 0.5757 - accuracy: 0.7062\n",
            "Epoch 17/50\n",
            "298/298 [==============================] - 155s 520ms/step - loss: 0.5760 - accuracy: 0.7066\n",
            "Epoch 18/50\n",
            "298/298 [==============================] - 155s 520ms/step - loss: 0.5713 - accuracy: 0.7067\n",
            "Epoch 19/50\n",
            "298/298 [==============================] - 154s 518ms/step - loss: 0.5722 - accuracy: 0.7043\n",
            "Epoch 20/50\n",
            "298/298 [==============================] - 154s 516ms/step - loss: 0.5705 - accuracy: 0.7102\n",
            "Epoch 21/50\n",
            "298/298 [==============================] - 155s 521ms/step - loss: 0.5689 - accuracy: 0.7086\n",
            "Epoch 22/50\n",
            "298/298 [==============================] - 155s 519ms/step - loss: 0.5673 - accuracy: 0.7108\n",
            "Epoch 23/50\n",
            "298/298 [==============================] - 150s 503ms/step - loss: 0.5753 - accuracy: 0.6983\n",
            "Epoch 24/50\n",
            "298/298 [==============================] - 152s 511ms/step - loss: 0.5730 - accuracy: 0.7045\n",
            "Epoch 25/50\n",
            "298/298 [==============================] - 155s 519ms/step - loss: 0.5671 - accuracy: 0.7108\n",
            "Epoch 26/50\n",
            "298/298 [==============================] - 154s 517ms/step - loss: 0.5666 - accuracy: 0.7132\n",
            "Epoch 27/50\n",
            "298/298 [==============================] - 153s 513ms/step - loss: 0.5648 - accuracy: 0.7107\n",
            "Epoch 28/50\n",
            "298/298 [==============================] - 154s 516ms/step - loss: 0.5659 - accuracy: 0.7138\n",
            "Epoch 29/50\n",
            "298/298 [==============================] - 153s 513ms/step - loss: 0.5642 - accuracy: 0.7140\n",
            "Epoch 30/50\n",
            "298/298 [==============================] - 154s 519ms/step - loss: 0.5637 - accuracy: 0.7133\n",
            "Epoch 31/50\n",
            "298/298 [==============================] - 154s 516ms/step - loss: 0.5637 - accuracy: 0.7133\n",
            "Epoch 32/50\n",
            "298/298 [==============================] - 152s 510ms/step - loss: 0.5617 - accuracy: 0.7124\n",
            "Epoch 33/50\n",
            "298/298 [==============================] - 155s 521ms/step - loss: 0.5630 - accuracy: 0.7160\n",
            "Epoch 34/50\n",
            "298/298 [==============================] - 157s 528ms/step - loss: 0.5591 - accuracy: 0.7185\n",
            "Epoch 35/50\n",
            "298/298 [==============================] - 154s 518ms/step - loss: 0.5654 - accuracy: 0.7139\n",
            "Epoch 36/50\n",
            "298/298 [==============================] - 159s 532ms/step - loss: 0.5598 - accuracy: 0.7174\n",
            "Epoch 37/50\n",
            "298/298 [==============================] - 156s 522ms/step - loss: 0.5596 - accuracy: 0.7189\n",
            "Epoch 38/50\n",
            "298/298 [==============================] - 153s 515ms/step - loss: 0.5580 - accuracy: 0.7195\n",
            "Epoch 39/50\n",
            "298/298 [==============================] - 153s 513ms/step - loss: 0.5595 - accuracy: 0.7187\n",
            "Epoch 40/50\n",
            "298/298 [==============================] - 153s 514ms/step - loss: 0.5767 - accuracy: 0.7028\n",
            "Epoch 41/50\n",
            "298/298 [==============================] - 152s 511ms/step - loss: 0.5795 - accuracy: 0.7002\n",
            "Epoch 42/50\n",
            "298/298 [==============================] - 153s 514ms/step - loss: 0.5774 - accuracy: 0.7059\n",
            "Epoch 43/50\n",
            "298/298 [==============================] - 152s 510ms/step - loss: 0.5695 - accuracy: 0.7074\n",
            "Epoch 44/50\n",
            "298/298 [==============================] - 154s 516ms/step - loss: 0.5761 - accuracy: 0.7053\n",
            "Epoch 45/50\n",
            "298/298 [==============================] - 152s 511ms/step - loss: 0.5696 - accuracy: 0.7095\n",
            "Epoch 46/50\n",
            "298/298 [==============================] - 154s 516ms/step - loss: 0.5657 - accuracy: 0.7111\n",
            "Epoch 47/50\n",
            "298/298 [==============================] - 154s 515ms/step - loss: 0.5611 - accuracy: 0.7146\n",
            "Epoch 48/50\n",
            "298/298 [==============================] - 153s 512ms/step - loss: 0.5583 - accuracy: 0.7172\n",
            "Epoch 49/50\n",
            "298/298 [==============================] - 154s 517ms/step - loss: 0.5597 - accuracy: 0.7131\n",
            "Epoch 50/50\n",
            "298/298 [==============================] - 154s 517ms/step - loss: 0.5535 - accuracy: 0.7204\n"
          ]
        }
      ],
      "source": [
        "history = model.fit(x_train, y_train, batch_size = 32, epochs = 50)"
      ]
    },
    {
      "cell_type": "code",
      "execution_count": null,
      "metadata": {
        "id": "ZLlFYkkZrIL7",
        "colab": {
          "base_uri": "https://localhost:8080/"
        },
        "outputId": "518148b9-d2d6-48a6-d85e-6a07be5b8cf8"
      },
      "outputs": [
        {
          "output_type": "stream",
          "name": "stdout",
          "text": [
            "33/33 [==============================] - 17s 501ms/step - loss: 0.6077 - accuracy: 0.6641\n"
          ]
        }
      ],
      "source": [
        "history = model.evaluate(x_test,y_test)"
      ]
    },
    {
      "cell_type": "code",
      "source": [],
      "metadata": {
        "id": "xwj51FNUwWI0"
      },
      "execution_count": null,
      "outputs": []
    }
  ],
  "metadata": {
    "colab": {
      "provenance": []
    },
    "kernelspec": {
      "display_name": "Python 3",
      "name": "python3"
    },
    "language_info": {
      "name": "python"
    }
  },
  "nbformat": 4,
  "nbformat_minor": 0
}