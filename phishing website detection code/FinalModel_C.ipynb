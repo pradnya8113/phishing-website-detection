{
 "cells": [
  {
   "cell_type": "code",
   "execution_count": 2,
   "metadata": {},
   "outputs": [
    {
     "name": "stdout",
     "output_type": "stream",
     "text": [
      "Collecting scikit-learn\n",
      "  Downloading scikit_learn-1.2.2-cp310-cp310-win_amd64.whl (8.3 MB)\n",
      "Collecting threadpoolctl>=2.0.0\n",
      "  Downloading threadpoolctl-3.1.0-py3-none-any.whl (14 kB)\n",
      "Requirement already satisfied: numpy>=1.17.3 in c:\\users\\91973\\appdata\\local\\programs\\python\\python310\\lib\\site-packages (from scikit-learn) (1.23.5)\n",
      "Requirement already satisfied: scipy>=1.3.2 in c:\\users\\91973\\appdata\\local\\programs\\python\\python310\\lib\\site-packages (from scikit-learn) (1.10.1)\n",
      "Collecting joblib>=1.1.1\n",
      "  Downloading joblib-1.2.0-py3-none-any.whl (297 kB)\n",
      "Installing collected packages: threadpoolctl, joblib, scikit-learn\n",
      "Successfully installed joblib-1.2.0 scikit-learn-1.2.2 threadpoolctl-3.1.0\n"
     ]
    },
    {
     "name": "stderr",
     "output_type": "stream",
     "text": [
      "WARNING: You are using pip version 21.2.4; however, version 23.0.1 is available.\n",
      "You should consider upgrading via the 'C:\\Users\\91973\\AppData\\Local\\Programs\\Python\\Python310\\python.exe -m pip install --upgrade pip' command.\n"
     ]
    }
   ],
   "source": [
    "! pip install scikit-learn"
   ]
  },
  {
   "cell_type": "code",
   "execution_count": 3,
   "metadata": {},
   "outputs": [
    {
     "name": "stdout",
     "output_type": "stream",
     "text": [
      "Requirement already satisfied: tensorflow in c:\\users\\91973\\appdata\\local\\programs\\python\\python310\\lib\\site-packages (2.12.0)\n",
      "Requirement already satisfied: tensorflow-intel==2.12.0 in c:\\users\\91973\\appdata\\local\\programs\\python\\python310\\lib\\site-packages (from tensorflow) (2.12.0)\n",
      "Requirement already satisfied: h5py>=2.9.0 in c:\\users\\91973\\appdata\\local\\programs\\python\\python310\\lib\\site-packages (from tensorflow-intel==2.12.0->tensorflow) (3.8.0)\n",
      "Requirement already satisfied: opt-einsum>=2.3.2 in c:\\users\\91973\\appdata\\local\\programs\\python\\python310\\lib\\site-packages (from tensorflow-intel==2.12.0->tensorflow) (3.3.0)\n",
      "Requirement already satisfied: packaging in c:\\users\\91973\\appdata\\roaming\\python\\python310\\site-packages (from tensorflow-intel==2.12.0->tensorflow) (23.0)\n",
      "Requirement already satisfied: keras<2.13,>=2.12.0 in c:\\users\\91973\\appdata\\local\\programs\\python\\python310\\lib\\site-packages (from tensorflow-intel==2.12.0->tensorflow) (2.12.0)\n",
      "Requirement already satisfied: astunparse>=1.6.0 in c:\\users\\91973\\appdata\\local\\programs\\python\\python310\\lib\\site-packages (from tensorflow-intel==2.12.0->tensorflow) (1.6.3)\n",
      "Requirement already satisfied: libclang>=13.0.0 in c:\\users\\91973\\appdata\\local\\programs\\python\\python310\\lib\\site-packages (from tensorflow-intel==2.12.0->tensorflow) (16.0.0)\n",
      "Requirement already satisfied: tensorflow-io-gcs-filesystem>=0.23.1 in c:\\users\\91973\\appdata\\local\\programs\\python\\python310\\lib\\site-packages (from tensorflow-intel==2.12.0->tensorflow) (0.31.0)\n",
      "Requirement already satisfied: termcolor>=1.1.0 in c:\\users\\91973\\appdata\\local\\programs\\python\\python310\\lib\\site-packages (from tensorflow-intel==2.12.0->tensorflow) (2.2.0)\n",
      "Requirement already satisfied: tensorflow-estimator<2.13,>=2.12.0 in c:\\users\\91973\\appdata\\local\\programs\\python\\python310\\lib\\site-packages (from tensorflow-intel==2.12.0->tensorflow) (2.12.0)\n",
      "Requirement already satisfied: protobuf!=4.21.0,!=4.21.1,!=4.21.2,!=4.21.3,!=4.21.4,!=4.21.5,<5.0.0dev,>=3.20.3 in c:\\users\\91973\\appdata\\local\\programs\\python\\python310\\lib\\site-packages (from tensorflow-intel==2.12.0->tensorflow) (3.20.3)\n",
      "Requirement already satisfied: grpcio<2.0,>=1.24.3 in c:\\users\\91973\\appdata\\local\\programs\\python\\python310\\lib\\site-packages (from tensorflow-intel==2.12.0->tensorflow) (1.51.3)\n",
      "Requirement already satisfied: flatbuffers>=2.0 in c:\\users\\91973\\appdata\\local\\programs\\python\\python310\\lib\\site-packages (from tensorflow-intel==2.12.0->tensorflow) (23.3.3)\n",
      "Requirement already satisfied: tensorboard<2.13,>=2.12 in c:\\users\\91973\\appdata\\local\\programs\\python\\python310\\lib\\site-packages (from tensorflow-intel==2.12.0->tensorflow) (2.12.0)\n",
      "Requirement already satisfied: google-pasta>=0.1.1 in c:\\users\\91973\\appdata\\local\\programs\\python\\python310\\lib\\site-packages (from tensorflow-intel==2.12.0->tensorflow) (0.2.0)\n",
      "Requirement already satisfied: wrapt<1.15,>=1.11.0 in c:\\users\\91973\\appdata\\local\\programs\\python\\python310\\lib\\site-packages (from tensorflow-intel==2.12.0->tensorflow) (1.14.1)\n",
      "Requirement already satisfied: setuptools in c:\\users\\91973\\appdata\\local\\programs\\python\\python310\\lib\\site-packages (from tensorflow-intel==2.12.0->tensorflow) (58.1.0)\n",
      "Requirement already satisfied: jax>=0.3.15 in c:\\users\\91973\\appdata\\local\\programs\\python\\python310\\lib\\site-packages (from tensorflow-intel==2.12.0->tensorflow) (0.4.6)\n",
      "Requirement already satisfied: absl-py>=1.0.0 in c:\\users\\91973\\appdata\\local\\programs\\python\\python310\\lib\\site-packages (from tensorflow-intel==2.12.0->tensorflow) (1.4.0)\n",
      "Requirement already satisfied: gast<=0.4.0,>=0.2.1 in c:\\users\\91973\\appdata\\local\\programs\\python\\python310\\lib\\site-packages (from tensorflow-intel==2.12.0->tensorflow) (0.4.0)\n",
      "Requirement already satisfied: six>=1.12.0 in c:\\users\\91973\\appdata\\roaming\\python\\python310\\site-packages (from tensorflow-intel==2.12.0->tensorflow) (1.16.0)\n",
      "Requirement already satisfied: numpy<1.24,>=1.22 in c:\\users\\91973\\appdata\\local\\programs\\python\\python310\\lib\\site-packages (from tensorflow-intel==2.12.0->tensorflow) (1.23.5)\n",
      "Requirement already satisfied: typing-extensions>=3.6.6 in c:\\users\\91973\\appdata\\local\\programs\\python\\python310\\lib\\site-packages (from tensorflow-intel==2.12.0->tensorflow) (4.5.0)\n",
      "Requirement already satisfied: wheel<1.0,>=0.23.0 in c:\\users\\91973\\appdata\\local\\programs\\python\\python310\\lib\\site-packages (from astunparse>=1.6.0->tensorflow-intel==2.12.0->tensorflow) (0.40.0)\n",
      "Requirement already satisfied: scipy>=1.5 in c:\\users\\91973\\appdata\\local\\programs\\python\\python310\\lib\\site-packages (from jax>=0.3.15->tensorflow-intel==2.12.0->tensorflow) (1.10.1)\n",
      "Requirement already satisfied: tensorboard-plugin-wit>=1.6.0 in c:\\users\\91973\\appdata\\local\\programs\\python\\python310\\lib\\site-packages (from tensorboard<2.13,>=2.12->tensorflow-intel==2.12.0->tensorflow) (1.8.1)\n",
      "Requirement already satisfied: requests<3,>=2.21.0 in c:\\users\\91973\\appdata\\local\\programs\\python\\python310\\lib\\site-packages (from tensorboard<2.13,>=2.12->tensorflow-intel==2.12.0->tensorflow) (2.28.2)\n",
      "Requirement already satisfied: google-auth<3,>=1.6.3 in c:\\users\\91973\\appdata\\local\\programs\\python\\python310\\lib\\site-packages (from tensorboard<2.13,>=2.12->tensorflow-intel==2.12.0->tensorflow) (2.16.3)\n",
      "Requirement already satisfied: tensorboard-data-server<0.8.0,>=0.7.0 in c:\\users\\91973\\appdata\\local\\programs\\python\\python310\\lib\\site-packages (from tensorboard<2.13,>=2.12->tensorflow-intel==2.12.0->tensorflow) (0.7.0)\n",
      "Requirement already satisfied: werkzeug>=1.0.1 in c:\\users\\91973\\appdata\\local\\programs\\python\\python310\\lib\\site-packages (from tensorboard<2.13,>=2.12->tensorflow-intel==2.12.0->tensorflow) (2.2.3)\n",
      "Requirement already satisfied: markdown>=2.6.8 in c:\\users\\91973\\appdata\\local\\programs\\python\\python310\\lib\\site-packages (from tensorboard<2.13,>=2.12->tensorflow-intel==2.12.0->tensorflow) (3.4.3)\n",
      "Requirement already satisfied: google-auth-oauthlib<0.5,>=0.4.1 in c:\\users\\91973\\appdata\\local\\programs\\python\\python310\\lib\\site-packages (from tensorboard<2.13,>=2.12->tensorflow-intel==2.12.0->tensorflow) (0.4.6)\n",
      "Requirement already satisfied: rsa<5,>=3.1.4 in c:\\users\\91973\\appdata\\local\\programs\\python\\python310\\lib\\site-packages (from google-auth<3,>=1.6.3->tensorboard<2.13,>=2.12->tensorflow-intel==2.12.0->tensorflow) (4.9)\n",
      "Requirement already satisfied: pyasn1-modules>=0.2.1 in c:\\users\\91973\\appdata\\local\\programs\\python\\python310\\lib\\site-packages (from google-auth<3,>=1.6.3->tensorboard<2.13,>=2.12->tensorflow-intel==2.12.0->tensorflow) (0.2.8)\n",
      "Requirement already satisfied: cachetools<6.0,>=2.0.0 in c:\\users\\91973\\appdata\\local\\programs\\python\\python310\\lib\\site-packages (from google-auth<3,>=1.6.3->tensorboard<2.13,>=2.12->tensorflow-intel==2.12.0->tensorflow) (5.3.0)\n",
      "Requirement already satisfied: requests-oauthlib>=0.7.0 in c:\\users\\91973\\appdata\\local\\programs\\python\\python310\\lib\\site-packages (from google-auth-oauthlib<0.5,>=0.4.1->tensorboard<2.13,>=2.12->tensorflow-intel==2.12.0->tensorflow) (1.3.1)\n",
      "Requirement already satisfied: pyasn1<0.5.0,>=0.4.6 in c:\\users\\91973\\appdata\\local\\programs\\python\\python310\\lib\\site-packages (from pyasn1-modules>=0.2.1->google-auth<3,>=1.6.3->tensorboard<2.13,>=2.12->tensorflow-intel==2.12.0->tensorflow) (0.4.8)\n",
      "Requirement already satisfied: idna<4,>=2.5 in c:\\users\\91973\\appdata\\local\\programs\\python\\python310\\lib\\site-packages (from requests<3,>=2.21.0->tensorboard<2.13,>=2.12->tensorflow-intel==2.12.0->tensorflow) (3.4)\n",
      "Requirement already satisfied: certifi>=2017.4.17 in c:\\users\\91973\\appdata\\local\\programs\\python\\python310\\lib\\site-packages (from requests<3,>=2.21.0->tensorboard<2.13,>=2.12->tensorflow-intel==2.12.0->tensorflow) (2022.12.7)\n",
      "Requirement already satisfied: urllib3<1.27,>=1.21.1 in c:\\users\\91973\\appdata\\local\\programs\\python\\python310\\lib\\site-packages (from requests<3,>=2.21.0->tensorboard<2.13,>=2.12->tensorflow-intel==2.12.0->tensorflow) (1.26.15)\n",
      "Requirement already satisfied: charset-normalizer<4,>=2 in c:\\users\\91973\\appdata\\local\\programs\\python\\python310\\lib\\site-packages (from requests<3,>=2.21.0->tensorboard<2.13,>=2.12->tensorflow-intel==2.12.0->tensorflow) (3.1.0)\n",
      "Requirement already satisfied: oauthlib>=3.0.0 in c:\\users\\91973\\appdata\\local\\programs\\python\\python310\\lib\\site-packages (from requests-oauthlib>=0.7.0->google-auth-oauthlib<0.5,>=0.4.1->tensorboard<2.13,>=2.12->tensorflow-intel==2.12.0->tensorflow) (3.2.2)\n",
      "Requirement already satisfied: MarkupSafe>=2.1.1 in c:\\users\\91973\\appdata\\local\\programs\\python\\python310\\lib\\site-packages (from werkzeug>=1.0.1->tensorboard<2.13,>=2.12->tensorflow-intel==2.12.0->tensorflow) (2.1.2)\n"
     ]
    },
    {
     "name": "stderr",
     "output_type": "stream",
     "text": [
      "WARNING: You are using pip version 21.2.4; however, version 23.0.1 is available.\n",
      "You should consider upgrading via the 'C:\\Users\\91973\\AppData\\Local\\Programs\\Python\\Python310\\python.exe -m pip install --upgrade pip' command.\n"
     ]
    }
   ],
   "source": [
    "! pip install tensorflow"
   ]
  },
  {
   "cell_type": "code",
   "execution_count": 1,
   "metadata": {},
   "outputs": [],
   "source": [
    "import numpy as np\n",
    "import pandas as pd\n",
    "import re, os, time\n",
    "from string import printable\n",
    "from sklearn.preprocessing import StandardScaler\n",
    "from sklearn.metrics import accuracy_score, confusion_matrix\n"
   ]
  },
  {
   "cell_type": "code",
   "execution_count": 2,
   "metadata": {},
   "outputs": [],
   "source": [
    "import tensorflow as tf\n",
    "from keras.layers import *\n",
    "from keras import backend as K\n",
    "from keras.optimizers import Adam\n",
    "from tensorflow.keras import layers\n",
    "from tensorflow.keras.preprocessing import sequence\n",
    "from keras.models import Sequential, Model, load_model\n",
    "from keras.callbacks import EarlyStopping, ModelCheckpoint\n",
    "from keras.layers.convolutional import Conv1D, MaxPooling1D\n",
    "from keras.layers.core import Dense, Dropout, Activation, Lambda, Flatten"
   ]
  },
  {
   "cell_type": "code",
   "execution_count": 3,
   "metadata": {},
   "outputs": [],
   "source": [
    "def create_scaler(df):\n",
    "    # apply standard scaler\n",
    "    html_len = df[['html_length']].values.astype(float)\n",
    "    n_hyperlinks = df[['n_hyperlinks']].values.astype(float)\n",
    "    n_script_tag = df[['n_script_tag']].values.astype(float)\n",
    "    n_link_tag = df[['n_link_tag']].values.astype(float)\n",
    "    n_comment_tag = df[['n_comment_tag']].values.astype(float)\n",
    "\n",
    "    scaler = StandardScaler()\n",
    "    html_len_scaled = scaler.fit_transform(html_len)\n",
    "    n_hyperlinks_scaled = scaler.fit_transform(n_hyperlinks)\n",
    "    n_script_tag_scaled = scaler.fit_transform(n_script_tag)\n",
    "    n_link_tag_scaled = scaler.fit_transform(n_link_tag)\n",
    "    n_comment_tag_scaled = scaler.fit_transform(n_comment_tag)\n",
    "\n",
    "    # remove column and add to data frame\n",
    "    df = pd.concat([df.drop(columns=['html_length','n_hyperlinks','n_script_tag','n_link_tag','n_comment_tag']),\n",
    "                    pd.DataFrame(html_len_scaled, columns=['html_length_std']),\n",
    "                    pd.DataFrame(n_hyperlinks_scaled, columns=['n_hyperlinks_std']),\n",
    "                    pd.DataFrame(n_script_tag_scaled, columns=['n_script_tag_std']),\n",
    "                    pd.DataFrame(n_link_tag_scaled, columns=['n_link_tag_std']),\n",
    "                    pd.DataFrame(n_comment_tag_scaled, columns=['n_comment_tag_std'])], axis=1, join='inner')\n",
    "\n",
    "    return df"
   ]
  },
  {
   "cell_type": "code",
   "execution_count": 4,
   "metadata": {},
   "outputs": [],
   "source": [
    "def create_X_1(temp_X_1):\n",
    "    url_int_tokens = [[printable.index(x) + 1 for x in url if x in printable] for url in temp_X_1.url]\n",
    "    max_len=150\n",
    "    X_new_1 = sequence.pad_sequences(url_int_tokens, maxlen=max_len)\n",
    "    return X_new_1"
   ]
  },
  {
   "cell_type": "code",
   "execution_count": 5,
   "metadata": {},
   "outputs": [],
   "source": [
    "def create_X_2(temp_X_2):\n",
    "    # input (x) variables\n",
    "    x = temp_X_2.drop(columns=['url']).values.astype(float)\n",
    "\n",
    "    # reshape input (x)\n",
    "    X_new_2 = x.reshape(x.shape[0], x.shape[1], 1)\n",
    "    return X_new_2"
   ]
  },
  {
   "cell_type": "code",
   "execution_count": 6,
   "metadata": {},
   "outputs": [],
   "source": [
    "def construct_model():\n",
    "    mergedOut = Add()([model_A.output,model_B.output])\n",
    "\n",
    "    # output layer\n",
    "    mergedOut = Dense(1, activation='sigmoid')(mergedOut)\n",
    "\n",
    "    model = Model([model_A.input,model_B.input], mergedOut)\n",
    "    adam = Adam(lr=0.001, beta_1=0.9, beta_2=0.999, epsilon=1e-08, decay=0.0)\n",
    "    model.compile(optimizer=adam, loss='binary_crossentropy', metrics=['acc'])\n",
    "    return model"
   ]
  },
  {
   "cell_type": "code",
   "execution_count": 7,
   "metadata": {},
   "outputs": [],
   "source": [
    "def predict_classes(model, x):\n",
    "    proba = model.predict(x)\n",
    "    if proba.shape[-1] > 1:\n",
    "        return proba.argmax(axis=-1)\n",
    "    else:\n",
    "        return (proba > 0.5).astype('int32')"
   ]
  },
  {
   "cell_type": "code",
   "execution_count": 8,
   "metadata": {},
   "outputs": [],
   "source": [
    "legitimate_train = pd.read_csv('features/legitimate_train.csv')\n",
    "legitimate_test = pd.read_csv('features/legitimate_test.csv')\n",
    "phish_train = pd.read_csv('features/phish_train.csv')\n",
    "phish_test = pd.read_csv('features/phish_test.csv')"
   ]
  },
  {
   "cell_type": "code",
   "execution_count": 9,
   "metadata": {},
   "outputs": [],
   "source": [
    "df_tr=pd.concat([legitimate_train, phish_train], axis=0).sample(frac=1).reset_index(drop=True)\n",
    "train=create_scaler(df_tr)\n",
    "df_te=pd.concat([legitimate_test, phish_test], axis=0).sample(frac=1).reset_index(drop=True)\n",
    "test=create_scaler(df_te)"
   ]
  },
  {
   "cell_type": "code",
   "execution_count": 10,
   "metadata": {},
   "outputs": [],
   "source": [
    "X_train, y_train = train.drop(columns=['result_flag']), train.result_flag\n",
    "X_test, y_test = test.drop(columns=['result_flag']), test.result_flag"
   ]
  },
  {
   "cell_type": "code",
   "execution_count": 11,
   "metadata": {},
   "outputs": [],
   "source": [
    "model_A = load_model('models/model_A.h5')\n",
    "model_A.layers.pop()\n",
    "model_A = Model(inputs=model_A.inputs, outputs=model_A.layers[-1].output)"
   ]
  },
  {
   "cell_type": "code",
   "execution_count": 12,
   "metadata": {},
   "outputs": [],
   "source": [
    "model_B = load_model('models/model_B.h5')\n",
    "model_B.layers.pop()\n",
    "model_B = Model(inputs=model_B.inputs, outputs=model_B.layers[-1].output)\n"
   ]
  },
  {
   "cell_type": "code",
   "execution_count": 13,
   "metadata": {},
   "outputs": [],
   "source": [
    "es = EarlyStopping(monitor='val_loss', mode='min', verbose=1, patience=50)\n",
    "mc = ModelCheckpoint('models/tmp_model.h5', monitor='val_loss', mode='min', verbose=1, save_best_only=True)"
   ]
  },
  {
   "cell_type": "code",
   "execution_count": 14,
   "metadata": {},
   "outputs": [
    {
     "name": "stderr",
     "output_type": "stream",
     "text": [
      "c:\\Users\\91973\\AppData\\Local\\Programs\\Python\\Python310\\lib\\site-packages\\keras\\optimizers\\legacy\\adam.py:117: UserWarning: The `lr` argument is deprecated, use `learning_rate` instead.\n",
      "  super().__init__(name, **kwargs)\n"
     ]
    }
   ],
   "source": [
    "model = construct_model()"
   ]
  },
  {
   "cell_type": "code",
   "execution_count": 15,
   "metadata": {},
   "outputs": [
    {
     "name": "stdout",
     "output_type": "stream",
     "text": [
      "Epoch 1/50\n",
      "134/134 [==============================] - ETA: 0s - loss: 0.5482 - acc: 0.8108\n",
      "Epoch 1: val_loss improved from inf to 0.50005, saving model to models\\tmp_model.h5\n",
      "134/134 [==============================] - 31s 200ms/step - loss: 0.5482 - acc: 0.8108 - val_loss: 0.5000 - val_acc: 0.8792\n",
      "Epoch 2/50\n",
      "134/134 [==============================] - ETA: 0s - loss: 0.4958 - acc: 0.8968\n",
      "Epoch 2: val_loss improved from 0.50005 to 0.46399, saving model to models\\tmp_model.h5\n",
      "134/134 [==============================] - 32s 242ms/step - loss: 0.4958 - acc: 0.8968 - val_loss: 0.4640 - val_acc: 0.9097\n",
      "Epoch 3/50\n",
      "134/134 [==============================] - ETA: 0s - loss: 0.4600 - acc: 0.9081\n",
      "Epoch 3: val_loss improved from 0.46399 to 0.43095, saving model to models\\tmp_model.h5\n",
      "134/134 [==============================] - 36s 269ms/step - loss: 0.4600 - acc: 0.9081 - val_loss: 0.4310 - val_acc: 0.9233\n",
      "Epoch 4/50\n",
      "134/134 [==============================] - ETA: 0s - loss: 0.4284 - acc: 0.9184\n",
      "Epoch 4: val_loss improved from 0.43095 to 0.41134, saving model to models\\tmp_model.h5\n",
      "134/134 [==============================] - 36s 272ms/step - loss: 0.4284 - acc: 0.9184 - val_loss: 0.4113 - val_acc: 0.9107\n",
      "Epoch 5/50\n",
      "134/134 [==============================] - ETA: 0s - loss: 0.4017 - acc: 0.9217\n",
      "Epoch 5: val_loss improved from 0.41134 to 0.38579, saving model to models\\tmp_model.h5\n",
      "134/134 [==============================] - 39s 294ms/step - loss: 0.4017 - acc: 0.9217 - val_loss: 0.3858 - val_acc: 0.9202\n",
      "Epoch 6/50\n",
      "134/134 [==============================] - ETA: 0s - loss: 0.3800 - acc: 0.9250\n",
      "Epoch 6: val_loss improved from 0.38579 to 0.36795, saving model to models\\tmp_model.h5\n",
      "134/134 [==============================] - 41s 305ms/step - loss: 0.3800 - acc: 0.9250 - val_loss: 0.3680 - val_acc: 0.9191\n",
      "Epoch 7/50\n",
      "134/134 [==============================] - ETA: 0s - loss: 0.3595 - acc: 0.9272\n",
      "Epoch 7: val_loss improved from 0.36795 to 0.34659, saving model to models\\tmp_model.h5\n",
      "134/134 [==============================] - 41s 306ms/step - loss: 0.3595 - acc: 0.9272 - val_loss: 0.3466 - val_acc: 0.9191\n",
      "Epoch 8/50\n",
      "134/134 [==============================] - ETA: 0s - loss: 0.3378 - acc: 0.9330\n",
      "Epoch 8: val_loss improved from 0.34659 to 0.33095, saving model to models\\tmp_model.h5\n",
      "134/134 [==============================] - 41s 307ms/step - loss: 0.3378 - acc: 0.9330 - val_loss: 0.3309 - val_acc: 0.9254\n",
      "Epoch 9/50\n",
      "134/134 [==============================] - ETA: 0s - loss: 0.3230 - acc: 0.9354\n",
      "Epoch 9: val_loss improved from 0.33095 to 0.31748, saving model to models\\tmp_model.h5\n",
      "134/134 [==============================] - 41s 303ms/step - loss: 0.3230 - acc: 0.9354 - val_loss: 0.3175 - val_acc: 0.9296\n",
      "Epoch 10/50\n",
      "134/134 [==============================] - ETA: 0s - loss: 0.3052 - acc: 0.9381\n",
      "Epoch 10: val_loss improved from 0.31748 to 0.30096, saving model to models\\tmp_model.h5\n",
      "134/134 [==============================] - 41s 303ms/step - loss: 0.3052 - acc: 0.9381 - val_loss: 0.3010 - val_acc: 0.9296\n",
      "Epoch 11/50\n",
      "134/134 [==============================] - ETA: 0s - loss: 0.2904 - acc: 0.9380\n",
      "Epoch 11: val_loss improved from 0.30096 to 0.28601, saving model to models\\tmp_model.h5\n",
      "134/134 [==============================] - 41s 307ms/step - loss: 0.2904 - acc: 0.9380 - val_loss: 0.2860 - val_acc: 0.9338\n",
      "Epoch 12/50\n",
      "134/134 [==============================] - ETA: 0s - loss: 0.2775 - acc: 0.9406\n",
      "Epoch 12: val_loss improved from 0.28601 to 0.27400, saving model to models\\tmp_model.h5\n",
      "134/134 [==============================] - 40s 300ms/step - loss: 0.2775 - acc: 0.9406 - val_loss: 0.2740 - val_acc: 0.9349\n",
      "Epoch 13/50\n",
      "134/134 [==============================] - ETA: 0s - loss: 0.2654 - acc: 0.9446\n",
      "Epoch 13: val_loss improved from 0.27400 to 0.26507, saving model to models\\tmp_model.h5\n",
      "134/134 [==============================] - 41s 306ms/step - loss: 0.2654 - acc: 0.9446 - val_loss: 0.2651 - val_acc: 0.9380\n",
      "Epoch 14/50\n",
      "134/134 [==============================] - ETA: 0s - loss: 0.2517 - acc: 0.9459\n",
      "Epoch 14: val_loss improved from 0.26507 to 0.26024, saving model to models\\tmp_model.h5\n",
      "134/134 [==============================] - 41s 304ms/step - loss: 0.2517 - acc: 0.9459 - val_loss: 0.2602 - val_acc: 0.9401\n",
      "Epoch 15/50\n",
      "134/134 [==============================] - ETA: 0s - loss: 0.2406 - acc: 0.9483\n",
      "Epoch 15: val_loss improved from 0.26024 to 0.25486, saving model to models\\tmp_model.h5\n",
      "134/134 [==============================] - 41s 305ms/step - loss: 0.2406 - acc: 0.9483 - val_loss: 0.2549 - val_acc: 0.9328\n",
      "Epoch 16/50\n",
      "134/134 [==============================] - ETA: 0s - loss: 0.2343 - acc: 0.9479\n",
      "Epoch 16: val_loss improved from 0.25486 to 0.24750, saving model to models\\tmp_model.h5\n",
      "134/134 [==============================] - 41s 307ms/step - loss: 0.2343 - acc: 0.9479 - val_loss: 0.2475 - val_acc: 0.9338\n",
      "Epoch 17/50\n",
      "134/134 [==============================] - ETA: 0s - loss: 0.2282 - acc: 0.9493\n",
      "Epoch 17: val_loss improved from 0.24750 to 0.23766, saving model to models\\tmp_model.h5\n",
      "134/134 [==============================] - 41s 307ms/step - loss: 0.2282 - acc: 0.9493 - val_loss: 0.2377 - val_acc: 0.9328\n",
      "Epoch 18/50\n",
      "134/134 [==============================] - ETA: 0s - loss: 0.2189 - acc: 0.9500\n",
      "Epoch 18: val_loss improved from 0.23766 to 0.22769, saving model to models\\tmp_model.h5\n",
      "134/134 [==============================] - 41s 309ms/step - loss: 0.2189 - acc: 0.9500 - val_loss: 0.2277 - val_acc: 0.9391\n",
      "Epoch 19/50\n",
      "134/134 [==============================] - ETA: 0s - loss: 0.2082 - acc: 0.9546\n",
      "Epoch 19: val_loss improved from 0.22769 to 0.21845, saving model to models\\tmp_model.h5\n",
      "134/134 [==============================] - 41s 308ms/step - loss: 0.2082 - acc: 0.9546 - val_loss: 0.2185 - val_acc: 0.9412\n",
      "Epoch 20/50\n",
      "134/134 [==============================] - ETA: 0s - loss: 0.2020 - acc: 0.9562\n",
      "Epoch 20: val_loss did not improve from 0.21845\n",
      "134/134 [==============================] - 41s 307ms/step - loss: 0.2020 - acc: 0.9562 - val_loss: 0.2190 - val_acc: 0.9391\n",
      "Epoch 21/50\n",
      "134/134 [==============================] - ETA: 0s - loss: 0.1946 - acc: 0.9544\n",
      "Epoch 21: val_loss did not improve from 0.21845\n",
      "134/134 [==============================] - 42s 314ms/step - loss: 0.1946 - acc: 0.9544 - val_loss: 0.2216 - val_acc: 0.9391\n",
      "Epoch 22/50\n",
      "134/134 [==============================] - ETA: 0s - loss: 0.1904 - acc: 0.9576\n",
      "Epoch 22: val_loss improved from 0.21845 to 0.20729, saving model to models\\tmp_model.h5\n",
      "134/134 [==============================] - 44s 326ms/step - loss: 0.1904 - acc: 0.9576 - val_loss: 0.2073 - val_acc: 0.9401\n",
      "Epoch 23/50\n",
      "134/134 [==============================] - ETA: 0s - loss: 0.1823 - acc: 0.9601\n",
      "Epoch 23: val_loss did not improve from 0.20729\n",
      "134/134 [==============================] - 41s 308ms/step - loss: 0.1823 - acc: 0.9601 - val_loss: 0.2096 - val_acc: 0.9391\n",
      "Epoch 24/50\n",
      "134/134 [==============================] - ETA: 0s - loss: 0.1779 - acc: 0.9610\n",
      "Epoch 24: val_loss improved from 0.20729 to 0.20361, saving model to models\\tmp_model.h5\n",
      "134/134 [==============================] - 41s 307ms/step - loss: 0.1779 - acc: 0.9610 - val_loss: 0.2036 - val_acc: 0.9359\n",
      "Epoch 25/50\n",
      "134/134 [==============================] - ETA: 0s - loss: 0.1731 - acc: 0.9616\n",
      "Epoch 25: val_loss improved from 0.20361 to 0.20246, saving model to models\\tmp_model.h5\n",
      "134/134 [==============================] - 41s 308ms/step - loss: 0.1731 - acc: 0.9616 - val_loss: 0.2025 - val_acc: 0.9380\n",
      "Epoch 26/50\n",
      "134/134 [==============================] - ETA: 0s - loss: 0.1643 - acc: 0.9646\n",
      "Epoch 26: val_loss improved from 0.20246 to 0.20222, saving model to models\\tmp_model.h5\n",
      "134/134 [==============================] - 41s 307ms/step - loss: 0.1643 - acc: 0.9646 - val_loss: 0.2022 - val_acc: 0.9359\n",
      "Epoch 27/50\n",
      "134/134 [==============================] - ETA: 0s - loss: 0.1624 - acc: 0.9640\n",
      "Epoch 27: val_loss improved from 0.20222 to 0.19773, saving model to models\\tmp_model.h5\n",
      "134/134 [==============================] - 41s 306ms/step - loss: 0.1624 - acc: 0.9640 - val_loss: 0.1977 - val_acc: 0.9391\n",
      "Epoch 28/50\n",
      "134/134 [==============================] - ETA: 0s - loss: 0.1581 - acc: 0.9634\n",
      "Epoch 28: val_loss did not improve from 0.19773\n",
      "134/134 [==============================] - 41s 306ms/step - loss: 0.1581 - acc: 0.9634 - val_loss: 0.2019 - val_acc: 0.9391\n",
      "Epoch 29/50\n",
      "134/134 [==============================] - ETA: 0s - loss: 0.1517 - acc: 0.9671\n",
      "Epoch 29: val_loss did not improve from 0.19773\n",
      "134/134 [==============================] - 41s 306ms/step - loss: 0.1517 - acc: 0.9671 - val_loss: 0.2048 - val_acc: 0.9338\n",
      "Epoch 30/50\n",
      "134/134 [==============================] - ETA: 0s - loss: 0.1443 - acc: 0.9681\n",
      "Epoch 30: val_loss did not improve from 0.19773\n",
      "134/134 [==============================] - 41s 309ms/step - loss: 0.1443 - acc: 0.9681 - val_loss: 0.2019 - val_acc: 0.9380\n",
      "Epoch 31/50\n",
      "134/134 [==============================] - ETA: 0s - loss: 0.1456 - acc: 0.9644\n",
      "Epoch 31: val_loss improved from 0.19773 to 0.19564, saving model to models\\tmp_model.h5\n",
      "134/134 [==============================] - 41s 304ms/step - loss: 0.1456 - acc: 0.9644 - val_loss: 0.1956 - val_acc: 0.9370\n",
      "Epoch 32/50\n",
      "134/134 [==============================] - ETA: 0s - loss: 0.1407 - acc: 0.9667\n",
      "Epoch 32: val_loss improved from 0.19564 to 0.19278, saving model to models\\tmp_model.h5\n",
      "134/134 [==============================] - 41s 306ms/step - loss: 0.1407 - acc: 0.9667 - val_loss: 0.1928 - val_acc: 0.9370\n",
      "Epoch 33/50\n",
      "134/134 [==============================] - ETA: 0s - loss: 0.1379 - acc: 0.9685\n",
      "Epoch 33: val_loss improved from 0.19278 to 0.19012, saving model to models\\tmp_model.h5\n",
      "134/134 [==============================] - 42s 310ms/step - loss: 0.1379 - acc: 0.9685 - val_loss: 0.1901 - val_acc: 0.9370\n",
      "Epoch 34/50\n",
      "134/134 [==============================] - ETA: 0s - loss: 0.1359 - acc: 0.9694\n",
      "Epoch 34: val_loss did not improve from 0.19012\n",
      "134/134 [==============================] - 41s 304ms/step - loss: 0.1359 - acc: 0.9694 - val_loss: 0.1907 - val_acc: 0.9349\n",
      "Epoch 35/50\n",
      "134/134 [==============================] - ETA: 0s - loss: 0.1310 - acc: 0.9699\n",
      "Epoch 35: val_loss improved from 0.19012 to 0.18372, saving model to models\\tmp_model.h5\n",
      "134/134 [==============================] - 41s 307ms/step - loss: 0.1310 - acc: 0.9699 - val_loss: 0.1837 - val_acc: 0.9391\n",
      "Epoch 36/50\n",
      "134/134 [==============================] - ETA: 0s - loss: 0.1303 - acc: 0.9715\n",
      "Epoch 36: val_loss did not improve from 0.18372\n",
      "134/134 [==============================] - 41s 304ms/step - loss: 0.1303 - acc: 0.9715 - val_loss: 0.1888 - val_acc: 0.9328\n",
      "Epoch 37/50\n",
      "134/134 [==============================] - ETA: 0s - loss: 0.1300 - acc: 0.9655\n",
      "Epoch 37: val_loss did not improve from 0.18372\n",
      "134/134 [==============================] - 41s 305ms/step - loss: 0.1300 - acc: 0.9655 - val_loss: 0.1893 - val_acc: 0.9380\n",
      "Epoch 38/50\n",
      "134/134 [==============================] - ETA: 0s - loss: 0.1272 - acc: 0.9679\n",
      "Epoch 38: val_loss did not improve from 0.18372\n",
      "134/134 [==============================] - 41s 305ms/step - loss: 0.1272 - acc: 0.9679 - val_loss: 0.1956 - val_acc: 0.9307\n",
      "Epoch 39/50\n",
      "134/134 [==============================] - ETA: 0s - loss: 0.1224 - acc: 0.9715\n",
      "Epoch 39: val_loss did not improve from 0.18372\n",
      "134/134 [==============================] - 40s 302ms/step - loss: 0.1224 - acc: 0.9715 - val_loss: 0.1853 - val_acc: 0.9433\n",
      "Epoch 40/50\n",
      "134/134 [==============================] - ETA: 0s - loss: 0.1190 - acc: 0.9734\n",
      "Epoch 40: val_loss improved from 0.18372 to 0.18158, saving model to models\\tmp_model.h5\n",
      "134/134 [==============================] - 41s 307ms/step - loss: 0.1190 - acc: 0.9734 - val_loss: 0.1816 - val_acc: 0.9391\n",
      "Epoch 41/50\n",
      "134/134 [==============================] - ETA: 0s - loss: 0.1178 - acc: 0.9724\n",
      "Epoch 41: val_loss improved from 0.18158 to 0.17818, saving model to models\\tmp_model.h5\n",
      "134/134 [==============================] - 41s 307ms/step - loss: 0.1178 - acc: 0.9724 - val_loss: 0.1782 - val_acc: 0.9412\n",
      "Epoch 42/50\n",
      "134/134 [==============================] - ETA: 0s - loss: 0.1141 - acc: 0.9730\n",
      "Epoch 42: val_loss improved from 0.17818 to 0.17500, saving model to models\\tmp_model.h5\n",
      "134/134 [==============================] - 42s 317ms/step - loss: 0.1141 - acc: 0.9730 - val_loss: 0.1750 - val_acc: 0.9370\n",
      "Epoch 43/50\n",
      "134/134 [==============================] - ETA: 0s - loss: 0.1127 - acc: 0.9714\n",
      "Epoch 43: val_loss did not improve from 0.17500\n",
      "134/134 [==============================] - 41s 307ms/step - loss: 0.1127 - acc: 0.9714 - val_loss: 0.1757 - val_acc: 0.9370\n",
      "Epoch 44/50\n",
      "134/134 [==============================] - ETA: 0s - loss: 0.1088 - acc: 0.9741\n",
      "Epoch 44: val_loss did not improve from 0.17500\n",
      "134/134 [==============================] - 41s 303ms/step - loss: 0.1088 - acc: 0.9741 - val_loss: 0.1902 - val_acc: 0.9349\n",
      "Epoch 45/50\n",
      "134/134 [==============================] - ETA: 0s - loss: 0.1050 - acc: 0.9750\n",
      "Epoch 45: val_loss did not improve from 0.17500\n",
      "134/134 [==============================] - 40s 301ms/step - loss: 0.1050 - acc: 0.9750 - val_loss: 0.1781 - val_acc: 0.9433\n",
      "Epoch 46/50\n",
      "134/134 [==============================] - ETA: 0s - loss: 0.1027 - acc: 0.9775 \n",
      "Epoch 46: val_loss improved from 0.17500 to 0.17367, saving model to models\\tmp_model.h5\n",
      "134/134 [==============================] - 5889s 44s/step - loss: 0.1027 - acc: 0.9775 - val_loss: 0.1737 - val_acc: 0.9443\n",
      "Epoch 47/50\n",
      "134/134 [==============================] - ETA: 0s - loss: 0.1005 - acc: 0.9771\n",
      "Epoch 47: val_loss improved from 0.17367 to 0.17120, saving model to models\\tmp_model.h5\n",
      "134/134 [==============================] - 32s 242ms/step - loss: 0.1005 - acc: 0.9771 - val_loss: 0.1712 - val_acc: 0.9391\n",
      "Epoch 48/50\n",
      "134/134 [==============================] - ETA: 0s - loss: 0.1049 - acc: 0.9741\n",
      "Epoch 48: val_loss did not improve from 0.17120\n",
      "134/134 [==============================] - 32s 237ms/step - loss: 0.1049 - acc: 0.9741 - val_loss: 0.1733 - val_acc: 0.9422\n",
      "Epoch 49/50\n",
      "134/134 [==============================] - ETA: 0s - loss: 0.1006 - acc: 0.9749\n",
      "Epoch 49: val_loss did not improve from 0.17120\n",
      "134/134 [==============================] - 33s 247ms/step - loss: 0.1006 - acc: 0.9749 - val_loss: 0.1834 - val_acc: 0.9433\n",
      "Epoch 50/50\n",
      "134/134 [==============================] - ETA: 0s - loss: 0.0975 - acc: 0.9755\n",
      "Epoch 50: val_loss did not improve from 0.17120\n",
      "134/134 [==============================] - 35s 258ms/step - loss: 0.0975 - acc: 0.9755 - val_loss: 0.1774 - val_acc: 0.9380\n"
     ]
    }
   ],
   "source": [
    "history = model.fit([create_X_1(X_train),create_X_2(X_train)], y_train, validation_split=0.1, epochs=50, batch_size=64, verbose=1, callbacks=[es, mc])"
   ]
  },
  {
   "cell_type": "code",
   "execution_count": null,
   "metadata": {},
   "outputs": [],
   "source": [
    "model = load_model('models/tmp_model.h5')\n",
    "model.save('models/model_C1.h5')\n",
    "os.remove('models/tmp_model.h5')"
   ]
  },
  {
   "cell_type": "code",
   "execution_count": null,
   "metadata": {},
   "outputs": [],
   "source": [
    "y_pred = predict_classes(model, [create_X_1(X_test),create_X_2(X_test)])\n",
    "print(confusion_matrix(y_test, y_pred))\n",
    "\n",
    "print(\"All done.\")"
   ]
  }
 ],
 "metadata": {
  "kernelspec": {
   "display_name": "Python 3",
   "language": "python",
   "name": "python3"
  },
  "language_info": {
   "codemirror_mode": {
    "name": "ipython",
    "version": 3
   },
   "file_extension": ".py",
   "mimetype": "text/x-python",
   "name": "python",
   "nbconvert_exporter": "python",
   "pygments_lexer": "ipython3",
   "version": "3.10.2"
  },
  "orig_nbformat": 4
 },
 "nbformat": 4,
 "nbformat_minor": 2
}
